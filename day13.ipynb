{
 "cells": [
  {
   "cell_type": "markdown",
   "id": "0915c457",
   "metadata": {},
   "source": [
    "## Daniel Barella\n",
    "## 9/14/25"
   ]
  },
  {
   "cell_type": "markdown",
   "id": "856ec37d",
   "metadata": {},
   "source": [
    "# Day 13 – Feature Engineering & Automated Cleaning\n",
    "Focus: Creating new features, encoding, scaling, and using automated tools.\n"
   ]
  },
  {
   "cell_type": "markdown",
   "id": "145c491d",
   "metadata": {},
   "source": [
    "**Goals for Day 13**\n",
    "- Practice creating new features from existing data\n",
    "- Binning continuous variables into categories\n",
    "- Encode categorical variables (manual + automated)\n",
    "- Use `SimpleImputer` for missing values\n",
    "- Use `StandardScaler` for normalization\n"
   ]
  },
  {
   "cell_type": "code",
   "execution_count": 1,
   "id": "4eb006a8",
   "metadata": {},
   "outputs": [],
   "source": [
    "#!pip install --upgrade scikit-learn\n"
   ]
  },
  {
   "cell_type": "code",
   "execution_count": 2,
   "id": "235a6ea4",
   "metadata": {},
   "outputs": [],
   "source": [
    "import pandas as pd\n",
    "import numpy as np\n",
    "from sklearn.impute import SimpleImputer\n",
    "from sklearn.preprocessing import OneHotEncoder, StandardScaler\n"
   ]
  },
  {
   "cell_type": "code",
   "execution_count": 3,
   "id": "c756b25b",
   "metadata": {},
   "outputs": [
    {
     "name": "stdout",
     "output_type": "stream",
     "text": [
      "1.6.1\n"
     ]
    }
   ],
   "source": [
    "import sklearn\n",
    "print(sklearn.__version__)\n"
   ]
  },
  {
   "cell_type": "markdown",
   "id": "60f0f597",
   "metadata": {},
   "source": [
    "## Load Titanic (Cleaned)"
   ]
  },
  {
   "cell_type": "code",
   "execution_count": 4,
   "id": "dc89bb11",
   "metadata": {},
   "outputs": [
    {
     "data": {
      "text/html": [
       "<div>\n",
       "<style scoped>\n",
       "    .dataframe tbody tr th:only-of-type {\n",
       "        vertical-align: middle;\n",
       "    }\n",
       "\n",
       "    .dataframe tbody tr th {\n",
       "        vertical-align: top;\n",
       "    }\n",
       "\n",
       "    .dataframe thead th {\n",
       "        text-align: right;\n",
       "    }\n",
       "</style>\n",
       "<table border=\"1\" class=\"dataframe\">\n",
       "  <thead>\n",
       "    <tr style=\"text-align: right;\">\n",
       "      <th></th>\n",
       "      <th>survived</th>\n",
       "      <th>pclass</th>\n",
       "      <th>sex</th>\n",
       "      <th>age</th>\n",
       "      <th>sibsp</th>\n",
       "      <th>parch</th>\n",
       "      <th>fare</th>\n",
       "      <th>embarked</th>\n",
       "      <th>class</th>\n",
       "      <th>who</th>\n",
       "      <th>adult_male</th>\n",
       "      <th>deck</th>\n",
       "      <th>embark_town</th>\n",
       "      <th>alive</th>\n",
       "      <th>alone</th>\n",
       "    </tr>\n",
       "  </thead>\n",
       "  <tbody>\n",
       "    <tr>\n",
       "      <th>0</th>\n",
       "      <td>0</td>\n",
       "      <td>3</td>\n",
       "      <td>Male</td>\n",
       "      <td>22.0</td>\n",
       "      <td>1</td>\n",
       "      <td>0</td>\n",
       "      <td>7.2500</td>\n",
       "      <td>S</td>\n",
       "      <td>Third</td>\n",
       "      <td>man</td>\n",
       "      <td>True</td>\n",
       "      <td>NaN</td>\n",
       "      <td>Southampton</td>\n",
       "      <td>no</td>\n",
       "      <td>False</td>\n",
       "    </tr>\n",
       "    <tr>\n",
       "      <th>1</th>\n",
       "      <td>1</td>\n",
       "      <td>1</td>\n",
       "      <td>Female</td>\n",
       "      <td>38.0</td>\n",
       "      <td>1</td>\n",
       "      <td>0</td>\n",
       "      <td>71.2833</td>\n",
       "      <td>C</td>\n",
       "      <td>First</td>\n",
       "      <td>woman</td>\n",
       "      <td>False</td>\n",
       "      <td>C</td>\n",
       "      <td>Cherbourg</td>\n",
       "      <td>yes</td>\n",
       "      <td>False</td>\n",
       "    </tr>\n",
       "    <tr>\n",
       "      <th>2</th>\n",
       "      <td>1</td>\n",
       "      <td>3</td>\n",
       "      <td>Female</td>\n",
       "      <td>26.0</td>\n",
       "      <td>0</td>\n",
       "      <td>0</td>\n",
       "      <td>7.9250</td>\n",
       "      <td>S</td>\n",
       "      <td>Third</td>\n",
       "      <td>woman</td>\n",
       "      <td>False</td>\n",
       "      <td>NaN</td>\n",
       "      <td>Southampton</td>\n",
       "      <td>yes</td>\n",
       "      <td>True</td>\n",
       "    </tr>\n",
       "    <tr>\n",
       "      <th>3</th>\n",
       "      <td>1</td>\n",
       "      <td>1</td>\n",
       "      <td>Female</td>\n",
       "      <td>35.0</td>\n",
       "      <td>1</td>\n",
       "      <td>0</td>\n",
       "      <td>53.1000</td>\n",
       "      <td>S</td>\n",
       "      <td>First</td>\n",
       "      <td>woman</td>\n",
       "      <td>False</td>\n",
       "      <td>C</td>\n",
       "      <td>Southampton</td>\n",
       "      <td>yes</td>\n",
       "      <td>False</td>\n",
       "    </tr>\n",
       "    <tr>\n",
       "      <th>4</th>\n",
       "      <td>0</td>\n",
       "      <td>3</td>\n",
       "      <td>Male</td>\n",
       "      <td>35.0</td>\n",
       "      <td>0</td>\n",
       "      <td>0</td>\n",
       "      <td>8.0500</td>\n",
       "      <td>S</td>\n",
       "      <td>Third</td>\n",
       "      <td>man</td>\n",
       "      <td>True</td>\n",
       "      <td>NaN</td>\n",
       "      <td>Southampton</td>\n",
       "      <td>no</td>\n",
       "      <td>True</td>\n",
       "    </tr>\n",
       "  </tbody>\n",
       "</table>\n",
       "</div>"
      ],
      "text/plain": [
       "   survived  pclass     sex   age  sibsp  parch     fare embarked  class  \\\n",
       "0         0       3    Male  22.0      1      0   7.2500        S  Third   \n",
       "1         1       1  Female  38.0      1      0  71.2833        C  First   \n",
       "2         1       3  Female  26.0      0      0   7.9250        S  Third   \n",
       "3         1       1  Female  35.0      1      0  53.1000        S  First   \n",
       "4         0       3    Male  35.0      0      0   8.0500        S  Third   \n",
       "\n",
       "     who  adult_male deck  embark_town alive  alone  \n",
       "0    man        True  NaN  Southampton    no  False  \n",
       "1  woman       False    C    Cherbourg   yes  False  \n",
       "2  woman       False  NaN  Southampton   yes   True  \n",
       "3  woman       False    C  Southampton   yes  False  \n",
       "4    man        True  NaN  Southampton    no   True  "
      ]
     },
     "execution_count": 4,
     "metadata": {},
     "output_type": "execute_result"
    }
   ],
   "source": [
    "df = pd.read_csv(\"titanic_clean.csv\")\n",
    "df.head()\n"
   ]
  },
  {
   "cell_type": "markdown",
   "id": "bfdecf6e",
   "metadata": {},
   "source": [
    "## Feature Creation"
   ]
  },
  {
   "cell_type": "code",
   "execution_count": 9,
   "id": "a1169cf0",
   "metadata": {},
   "outputs": [],
   "source": [
    "# Create new column: family_size\n",
    "df['family_size'] = df['sibsp'] + df['parch'] + 1\n",
    "\n",
    "# Bin ages into categories\n",
    "df['age_group'] = pd.cut(df['age'], bins=[0,12,18,35,60,80],\n",
    "                         labels=['Child','Teen','Young Adult','Adult','Senior'])\n"
   ]
  },
  {
   "cell_type": "markdown",
   "id": "2e6bd446",
   "metadata": {},
   "source": [
    "## Encoding (Manual & Automated)"
   ]
  },
  {
   "cell_type": "code",
   "execution_count": 10,
   "id": "eea26d12",
   "metadata": {},
   "outputs": [],
   "source": [
    "# Manual one-hot encoding\n",
    "df_encoded = pd.get_dummies(df, columns=['sex','class','embarked'], drop_first=True)\n",
    "\n",
    "# Automated encoding example\n",
    "encoder = OneHotEncoder(drop='first', sparse_output=False)\n",
    "encoded = encoder.fit_transform(df[['sex','class','embarked']])\n",
    "encoded_df = pd.DataFrame(encoded, columns=encoder.get_feature_names_out(['sex','class','embarked']))\n"
   ]
  },
  {
   "cell_type": "markdown",
   "id": "655fb606",
   "metadata": {},
   "source": [
    "## Imputation with SimpleImputer"
   ]
  },
  {
   "cell_type": "code",
   "execution_count": 11,
   "id": "47d55bdf",
   "metadata": {},
   "outputs": [],
   "source": [
    "# Example: If age had missing values\n",
    "imputer = SimpleImputer(strategy='median')\n",
    "df['age_imputed'] = imputer.fit_transform(df[['age']])\n"
   ]
  },
  {
   "cell_type": "markdown",
   "id": "e2cd2ed5",
   "metadata": {},
   "source": [
    "## Scaling"
   ]
  },
  {
   "cell_type": "code",
   "execution_count": 12,
   "id": "89387e13",
   "metadata": {},
   "outputs": [],
   "source": [
    "scaler = StandardScaler()\n",
    "df[['fare_scaled']] = scaler.fit_transform(df[['fare']])\n"
   ]
  },
  {
   "cell_type": "markdown",
   "id": "8fa9654f",
   "metadata": {},
   "source": [
    "## Reflection"
   ]
  },
  {
   "cell_type": "markdown",
   "id": "ba3afb7f",
   "metadata": {},
   "source": [
    "### Reflection\n",
    "- Learned to create new features (family size, age groups)\n",
    "- Practiced encoding (manual one-hot and sklearn `OneHotEncoder`)\n",
    "- Used `SimpleImputer` to automatically handle missing values\n",
    "- Scaled numerical data with `StandardScaler`\n",
    "\n",
    "Next: Advanced Visualization (Day 14)\n"
   ]
  },
  {
   "cell_type": "code",
   "execution_count": null,
   "id": "1a3f3c5e",
   "metadata": {},
   "outputs": [],
   "source": []
  }
 ],
 "metadata": {
  "kernelspec": {
   "display_name": "Python (dojo-env)",
   "language": "python",
   "name": "dojo-env"
  },
  "language_info": {
   "codemirror_mode": {
    "name": "ipython",
    "version": 3
   },
   "file_extension": ".py",
   "mimetype": "text/x-python",
   "name": "python",
   "nbconvert_exporter": "python",
   "pygments_lexer": "ipython3",
   "version": "3.9.15"
  },
  "toc": {
   "base_numbering": 1,
   "nav_menu": {},
   "number_sections": false,
   "sideBar": true,
   "skip_h1_title": false,
   "title_cell": "Table of Contents",
   "title_sidebar": "Contents",
   "toc_cell": false,
   "toc_position": {},
   "toc_section_display": true,
   "toc_window_display": false
  }
 },
 "nbformat": 4,
 "nbformat_minor": 5
}
