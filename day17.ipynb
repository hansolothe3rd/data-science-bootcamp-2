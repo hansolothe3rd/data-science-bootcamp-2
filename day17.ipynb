{
 "cells": [
  {
   "cell_type": "markdown",
   "id": "e4af4963",
   "metadata": {},
   "source": [
    "## Daniel Barella\n",
    "## 9/16/25"
   ]
  },
  {
   "cell_type": "markdown",
   "id": "5cde448b",
   "metadata": {},
   "source": [
    "# 📓 Day 17 — Hypothesis Testing\n",
    "\n",
    "## 1. Introduction\n",
    "Hypothesis testing is a method for making inferences about a population using sample data.\n",
    "\n",
    "- **Null Hypothesis (H₀)**: No effect, no difference, or status quo.  \n",
    "- **Alternative Hypothesis (H₁)**: What we want to test/prove.  \n",
    "- **Type I Error**: Rejecting H₀ when it’s true (false positive).  \n",
    "- **Type II Error**: Failing to reject H₀ when it’s false (false negative).  \n",
    "- **Significance Level (α)**: Threshold for deciding if results are “statistically significant” (commonly 0.05).  \n",
    "\n",
    "---\n",
    "\n",
    "## 2. Steps in Hypothesis Testing\n",
    "1. Define hypotheses (H₀, H₁)  \n",
    "2. Choose significance level (α)  \n",
    "3. Select appropriate test (t-test, chi-square, etc.)  \n",
    "4. Compute test statistic and p-value  \n",
    "5. Compare p-value with α  \n",
    "6. Make decision  \n"
   ]
  },
  {
   "cell_type": "markdown",
   "id": "af1d9c7a",
   "metadata": {},
   "source": [
    "## 3. Example: One-Sample T-Test"
   ]
  },
  {
   "cell_type": "code",
   "execution_count": 2,
   "id": "e51919aa",
   "metadata": {},
   "outputs": [
    {
     "name": "stdout",
     "output_type": "stream",
     "text": [
      "T-statistic: -0.394771016975867\n",
      "P-value: 0.7022041268374959\n",
      "Fail to reject the null hypothesis (mean could be 90).\n"
     ]
    }
   ],
   "source": [
    "import numpy as np\n",
    "from scipy import stats\n",
    "\n",
    "# Sample data: exam scores\n",
    "scores = np.array([88, 92, 85, 91, 87, 95, 89, 90, 86, 93])\n",
    "\n",
    "# Claim: average exam score is 90\n",
    "mu = 90\n",
    "\n",
    "# Perform one-sample t-test\n",
    "t_stat, p_val = stats.ttest_1samp(scores, mu)\n",
    "\n",
    "print(\"T-statistic:\", t_stat)\n",
    "print(\"P-value:\", p_val)\n",
    "\n",
    "if p_val < 0.05:\n",
    "    print(\"Reject the null hypothesis (mean is not 90).\")\n",
    "else:\n",
    "    print(\"Fail to reject the null hypothesis (mean could be 90).\")\n"
   ]
  },
  {
   "cell_type": "markdown",
   "id": "298a3751",
   "metadata": {},
   "source": [
    "## 4. Example: Two-Sample T-Test\n"
   ]
  },
  {
   "cell_type": "code",
   "execution_count": 3,
   "id": "b92cbb6d",
   "metadata": {},
   "outputs": [
    {
     "name": "stdout",
     "output_type": "stream",
     "text": [
      "T-statistic: -6.590591584668059\n",
      "P-value: 1.207850807546064e-05\n",
      "Reject null hypothesis (means differ).\n"
     ]
    }
   ],
   "source": [
    "# Two groups: Control vs Treatment\n",
    "control = np.array([22, 21, 23, 20, 19, 24, 22, 23])\n",
    "treatment = np.array([25, 27, 26, 30, 29, 28, 27, 26])\n",
    "\n",
    "t_stat, p_val = stats.ttest_ind(control, treatment)\n",
    "\n",
    "print(\"T-statistic:\", t_stat)\n",
    "print(\"P-value:\", p_val)\n",
    "\n",
    "if p_val < 0.05:\n",
    "    print(\"Reject null hypothesis (means differ).\")\n",
    "else:\n",
    "    print(\"Fail to reject null hypothesis (means are similar).\")\n"
   ]
  },
  {
   "cell_type": "markdown",
   "id": "a04b57fd",
   "metadata": {},
   "source": [
    "## 5. Example: Chi-Square Test for Independence"
   ]
  },
  {
   "cell_type": "code",
   "execution_count": 4,
   "id": "da26579c",
   "metadata": {},
   "outputs": [
    {
     "name": "stdout",
     "output_type": "stream",
     "text": [
      "Contingency Table:\n",
      " Preference  A  B\n",
      "Gender          \n",
      "F           3  2\n",
      "M           2  3\n",
      "Chi-square: 0.0\n",
      "P-value: 1.0\n",
      "Fail to reject null hypothesis (variables may be independent).\n"
     ]
    }
   ],
   "source": [
    "import pandas as pd\n",
    "\n",
    "# Contingency table: Gender vs Preference\n",
    "data = pd.DataFrame({\n",
    "    \"Gender\": [\"M\",\"M\",\"F\",\"F\",\"M\",\"F\",\"M\",\"F\",\"M\",\"F\"],\n",
    "    \"Preference\": [\"A\",\"B\",\"A\",\"A\",\"B\",\"B\",\"A\",\"B\",\"B\",\"A\"]\n",
    "})\n",
    "\n",
    "contingency = pd.crosstab(data[\"Gender\"], data[\"Preference\"])\n",
    "print(\"Contingency Table:\\n\", contingency)\n",
    "\n",
    "chi2, p_val, dof, expected = stats.chi2_contingency(contingency)\n",
    "\n",
    "print(\"Chi-square:\", chi2)\n",
    "print(\"P-value:\", p_val)\n",
    "\n",
    "if p_val < 0.05:\n",
    "    print(\"Reject null hypothesis (variables are not independent).\")\n",
    "else:\n",
    "    print(\"Fail to reject null hypothesis (variables may be independent).\")\n"
   ]
  },
  {
   "cell_type": "markdown",
   "id": "b2fd0f9f",
   "metadata": {},
   "source": [
    "## 6. Wrap-Up\n",
    "\n",
    "- Use t-tests for comparing means.\n",
    "\n",
    "- Use chi-square for categorical independence.\n",
    "\n",
    "- Always check assumptions (normality, variance, independence).\n",
    "\n",
    "- This sets us up for Day 18: ANOVA & Regression Intro."
   ]
  },
  {
   "cell_type": "code",
   "execution_count": null,
   "id": "a2b4c76c",
   "metadata": {},
   "outputs": [],
   "source": []
  }
 ],
 "metadata": {
  "kernelspec": {
   "display_name": "Python (dojo-env)",
   "language": "python",
   "name": "dojo-env"
  },
  "language_info": {
   "codemirror_mode": {
    "name": "ipython",
    "version": 3
   },
   "file_extension": ".py",
   "mimetype": "text/x-python",
   "name": "python",
   "nbconvert_exporter": "python",
   "pygments_lexer": "ipython3",
   "version": "3.9.15"
  },
  "toc": {
   "base_numbering": 1,
   "nav_menu": {},
   "number_sections": false,
   "sideBar": true,
   "skip_h1_title": false,
   "title_cell": "Table of Contents",
   "title_sidebar": "Contents",
   "toc_cell": false,
   "toc_position": {},
   "toc_section_display": true,
   "toc_window_display": false
  }
 },
 "nbformat": 4,
 "nbformat_minor": 5
}
